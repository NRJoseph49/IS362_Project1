{
 "cells": [
  {
   "cell_type": "markdown",
   "metadata": {},
   "source": [
    "# Comparing flight delays"
   ]
  },
  {
   "cell_type": "markdown",
   "metadata": {},
   "source": [
    "## Analysis to compare the arrival delays for two different airlines"
   ]
  },
  {
   "cell_type": "markdown",
   "metadata": {},
   "source": [
    "Import csv to pandas"
   ]
  },
  {
   "cell_type": "code",
   "execution_count": 186,
   "metadata": {},
   "outputs": [
    {
     "data": {
      "text/html": [
       "<div>\n",
       "<style scoped>\n",
       "    .dataframe tbody tr th:only-of-type {\n",
       "        vertical-align: middle;\n",
       "    }\n",
       "\n",
       "    .dataframe tbody tr th {\n",
       "        vertical-align: top;\n",
       "    }\n",
       "\n",
       "    .dataframe thead th {\n",
       "        text-align: right;\n",
       "    }\n",
       "</style>\n",
       "<table border=\"1\" class=\"dataframe\">\n",
       "  <thead>\n",
       "    <tr style=\"text-align: right;\">\n",
       "      <th></th>\n",
       "      <th>airline</th>\n",
       "      <th>destination</th>\n",
       "      <th>on_time</th>\n",
       "      <th>delayed</th>\n",
       "    </tr>\n",
       "  </thead>\n",
       "  <tbody>\n",
       "    <tr>\n",
       "      <th>0</th>\n",
       "      <td>AM WEST</td>\n",
       "      <td>Los Angeles</td>\n",
       "      <td>694</td>\n",
       "      <td>117</td>\n",
       "    </tr>\n",
       "    <tr>\n",
       "      <th>1</th>\n",
       "      <td>AM WEST</td>\n",
       "      <td>Phoenix</td>\n",
       "      <td>4840</td>\n",
       "      <td>415</td>\n",
       "    </tr>\n",
       "    <tr>\n",
       "      <th>2</th>\n",
       "      <td>AM WEST</td>\n",
       "      <td>San Diego</td>\n",
       "      <td>383</td>\n",
       "      <td>65</td>\n",
       "    </tr>\n",
       "    <tr>\n",
       "      <th>3</th>\n",
       "      <td>AM WEST</td>\n",
       "      <td>San Francisco</td>\n",
       "      <td>320</td>\n",
       "      <td>129</td>\n",
       "    </tr>\n",
       "    <tr>\n",
       "      <th>4</th>\n",
       "      <td>AM WEST</td>\n",
       "      <td>Seattle</td>\n",
       "      <td>201</td>\n",
       "      <td>61</td>\n",
       "    </tr>\n",
       "    <tr>\n",
       "      <th>5</th>\n",
       "      <td>ALASKA</td>\n",
       "      <td>Los Angeles</td>\n",
       "      <td>497</td>\n",
       "      <td>62</td>\n",
       "    </tr>\n",
       "    <tr>\n",
       "      <th>6</th>\n",
       "      <td>ALASKA</td>\n",
       "      <td>Phoenix</td>\n",
       "      <td>221</td>\n",
       "      <td>12</td>\n",
       "    </tr>\n",
       "    <tr>\n",
       "      <th>7</th>\n",
       "      <td>ALASKA</td>\n",
       "      <td>San Diego</td>\n",
       "      <td>212</td>\n",
       "      <td>20</td>\n",
       "    </tr>\n",
       "    <tr>\n",
       "      <th>8</th>\n",
       "      <td>ALASKA</td>\n",
       "      <td>San Francisco</td>\n",
       "      <td>503</td>\n",
       "      <td>102</td>\n",
       "    </tr>\n",
       "    <tr>\n",
       "      <th>9</th>\n",
       "      <td>ALASKA</td>\n",
       "      <td>Seattle</td>\n",
       "      <td>1841</td>\n",
       "      <td>305</td>\n",
       "    </tr>\n",
       "  </tbody>\n",
       "</table>\n",
       "</div>"
      ],
      "text/plain": [
       "   airline    destination  on_time  delayed\n",
       "0  AM WEST    Los Angeles      694      117\n",
       "1  AM WEST        Phoenix     4840      415\n",
       "2  AM WEST      San Diego      383       65\n",
       "3  AM WEST  San Francisco      320      129\n",
       "4  AM WEST        Seattle      201       61\n",
       "5   ALASKA    Los Angeles      497       62\n",
       "6   ALASKA        Phoenix      221       12\n",
       "7   ALASKA      San Diego      212       20\n",
       "8   ALASKA  San Francisco      503      102\n",
       "9   ALASKA        Seattle     1841      305"
      ]
     },
     "execution_count": 186,
     "metadata": {},
     "output_type": "execute_result"
    }
   ],
   "source": [
    "import pandas as pd\n",
    "flights = pd.read_csv('flight.csv', delimiter = ',')\n",
    "flights"
   ]
  },
  {
   "cell_type": "markdown",
   "metadata": {},
   "source": [
    "### 1. Calculating arrival delay rate  (%) based on destinations"
   ]
  },
  {
   "cell_type": "code",
   "execution_count": 193,
   "metadata": {
    "scrolled": true
   },
   "outputs": [
    {
     "data": {
      "text/html": [
       "<div>\n",
       "<style scoped>\n",
       "    .dataframe tbody tr th:only-of-type {\n",
       "        vertical-align: middle;\n",
       "    }\n",
       "\n",
       "    .dataframe tbody tr th {\n",
       "        vertical-align: top;\n",
       "    }\n",
       "\n",
       "    .dataframe thead th {\n",
       "        text-align: right;\n",
       "    }\n",
       "</style>\n",
       "<table border=\"1\" class=\"dataframe\">\n",
       "  <thead>\n",
       "    <tr style=\"text-align: right;\">\n",
       "      <th></th>\n",
       "      <th></th>\n",
       "      <th>on_time</th>\n",
       "      <th>delayed</th>\n",
       "      <th>delay_rate</th>\n",
       "    </tr>\n",
       "    <tr>\n",
       "      <th>destination</th>\n",
       "      <th>airline</th>\n",
       "      <th></th>\n",
       "      <th></th>\n",
       "      <th></th>\n",
       "    </tr>\n",
       "  </thead>\n",
       "  <tbody>\n",
       "    <tr>\n",
       "      <th rowspan=\"2\" valign=\"top\">Los Angeles</th>\n",
       "      <th>ALASKA</th>\n",
       "      <td>497</td>\n",
       "      <td>62</td>\n",
       "      <td>11.091234</td>\n",
       "    </tr>\n",
       "    <tr>\n",
       "      <th>AM WEST</th>\n",
       "      <td>694</td>\n",
       "      <td>117</td>\n",
       "      <td>14.426634</td>\n",
       "    </tr>\n",
       "    <tr>\n",
       "      <th rowspan=\"2\" valign=\"top\">Phoenix</th>\n",
       "      <th>ALASKA</th>\n",
       "      <td>221</td>\n",
       "      <td>12</td>\n",
       "      <td>5.150215</td>\n",
       "    </tr>\n",
       "    <tr>\n",
       "      <th>AM WEST</th>\n",
       "      <td>4840</td>\n",
       "      <td>415</td>\n",
       "      <td>7.897241</td>\n",
       "    </tr>\n",
       "    <tr>\n",
       "      <th rowspan=\"2\" valign=\"top\">San Diego</th>\n",
       "      <th>ALASKA</th>\n",
       "      <td>212</td>\n",
       "      <td>20</td>\n",
       "      <td>8.620690</td>\n",
       "    </tr>\n",
       "    <tr>\n",
       "      <th>AM WEST</th>\n",
       "      <td>383</td>\n",
       "      <td>65</td>\n",
       "      <td>14.508929</td>\n",
       "    </tr>\n",
       "    <tr>\n",
       "      <th rowspan=\"2\" valign=\"top\">San Francisco</th>\n",
       "      <th>ALASKA</th>\n",
       "      <td>503</td>\n",
       "      <td>102</td>\n",
       "      <td>16.859504</td>\n",
       "    </tr>\n",
       "    <tr>\n",
       "      <th>AM WEST</th>\n",
       "      <td>320</td>\n",
       "      <td>129</td>\n",
       "      <td>28.730512</td>\n",
       "    </tr>\n",
       "    <tr>\n",
       "      <th rowspan=\"2\" valign=\"top\">Seattle</th>\n",
       "      <th>ALASKA</th>\n",
       "      <td>1841</td>\n",
       "      <td>305</td>\n",
       "      <td>14.212488</td>\n",
       "    </tr>\n",
       "    <tr>\n",
       "      <th>AM WEST</th>\n",
       "      <td>201</td>\n",
       "      <td>61</td>\n",
       "      <td>23.282443</td>\n",
       "    </tr>\n",
       "  </tbody>\n",
       "</table>\n",
       "</div>"
      ],
      "text/plain": [
       "                       on_time  delayed  delay_rate\n",
       "destination   airline                              \n",
       "Los Angeles   ALASKA       497       62   11.091234\n",
       "              AM WEST      694      117   14.426634\n",
       "Phoenix       ALASKA       221       12    5.150215\n",
       "              AM WEST     4840      415    7.897241\n",
       "San Diego     ALASKA       212       20    8.620690\n",
       "              AM WEST      383       65   14.508929\n",
       "San Francisco ALASKA       503      102   16.859504\n",
       "              AM WEST      320      129   28.730512\n",
       "Seattle       ALASKA      1841      305   14.212488\n",
       "              AM WEST      201       61   23.282443"
      ]
     },
     "execution_count": 193,
     "metadata": {},
     "output_type": "execute_result"
    }
   ],
   "source": [
    "#calculate delay rate\n",
    "delay_rate=flights['delayed']/(flights['on_time']+flights['delayed']) * 100\n",
    "#add to dataframe\n",
    "flights['delay_rate']=delay_rate\n",
    "#group by destination and airline\n",
    "group_by_airline=flight.groupby(['destination','airline'])\n",
    "group_by_airline.sum()\n"
   ]
  },
  {
   "cell_type": "markdown",
   "metadata": {},
   "source": [
    "### Conclusion"
   ]
  },
  {
   "cell_type": "markdown",
   "metadata": {},
   "source": [
    "Based on the results above, AM WEST had the highest delay rate in all destinations"
   ]
  },
  {
   "cell_type": "markdown",
   "metadata": {},
   "source": [
    "---"
   ]
  },
  {
   "cell_type": "markdown",
   "metadata": {},
   "source": [
    "### 2. Calculating mean arrival delay rate (%)"
   ]
  },
  {
   "cell_type": "code",
   "execution_count": 192,
   "metadata": {
    "scrolled": false
   },
   "outputs": [
    {
     "data": {
      "text/html": [
       "<div>\n",
       "<style scoped>\n",
       "    .dataframe tbody tr th:only-of-type {\n",
       "        vertical-align: middle;\n",
       "    }\n",
       "\n",
       "    .dataframe tbody tr th {\n",
       "        vertical-align: top;\n",
       "    }\n",
       "\n",
       "    .dataframe thead th {\n",
       "        text-align: right;\n",
       "    }\n",
       "</style>\n",
       "<table border=\"1\" class=\"dataframe\">\n",
       "  <thead>\n",
       "    <tr style=\"text-align: right;\">\n",
       "      <th></th>\n",
       "      <th>on_time</th>\n",
       "      <th>delayed</th>\n",
       "      <th>delay_rate</th>\n",
       "    </tr>\n",
       "    <tr>\n",
       "      <th>airline</th>\n",
       "      <th></th>\n",
       "      <th></th>\n",
       "      <th></th>\n",
       "    </tr>\n",
       "  </thead>\n",
       "  <tbody>\n",
       "    <tr>\n",
       "      <th>ALASKA</th>\n",
       "      <td>654.8</td>\n",
       "      <td>100.2</td>\n",
       "      <td>11.186826</td>\n",
       "    </tr>\n",
       "    <tr>\n",
       "      <th>AM WEST</th>\n",
       "      <td>1287.6</td>\n",
       "      <td>157.4</td>\n",
       "      <td>17.769152</td>\n",
       "    </tr>\n",
       "  </tbody>\n",
       "</table>\n",
       "</div>"
      ],
      "text/plain": [
       "         on_time  delayed  delay_rate\n",
       "airline                              \n",
       "ALASKA     654.8    100.2   11.186826\n",
       "AM WEST   1287.6    157.4   17.769152"
      ]
     },
     "execution_count": 192,
     "metadata": {},
     "output_type": "execute_result"
    }
   ],
   "source": [
    "group_by_airline=flight.groupby(['airline'])\n",
    "group_by_airline.mean()"
   ]
  },
  {
   "cell_type": "markdown",
   "metadata": {},
   "source": [
    "### Conclusion"
   ]
  },
  {
   "cell_type": "markdown",
   "metadata": {},
   "source": [
    "AM WEST had the highest mean delay rate."
   ]
  }
 ],
 "metadata": {
  "kernelspec": {
   "display_name": "Python 3",
   "language": "python",
   "name": "python3"
  },
  "language_info": {
   "codemirror_mode": {
    "name": "ipython",
    "version": 3
   },
   "file_extension": ".py",
   "mimetype": "text/x-python",
   "name": "python",
   "nbconvert_exporter": "python",
   "pygments_lexer": "ipython3",
   "version": "3.8.0"
  }
 },
 "nbformat": 4,
 "nbformat_minor": 4
}
